{
 "cells": [
  {
   "cell_type": "markdown",
   "id": "8cc36da0-979c-47de-8f1b-2b934379c72c",
   "metadata": {},
   "source": [
    "Q1. What is an API? Give an example, where an API is used in real life."
   ]
  },
  {
   "cell_type": "markdown",
   "id": "9edb9a6a-eb1e-4304-82ad-be4c92fb8151",
   "metadata": {},
   "source": [
    "Ans: \n",
    "\n",
    "API stands for application programming interface, which is a set of definitions and protocols for building and integrating application software. It is a layer that helps to process data between different systems by allowing external third party developers, various department of same company to access and manipulate requested information\n",
    "\n",
    "Example and usage) request that is served by google search engine. Whenever user sends request in google.com, the website carries the information in the form of request to server and retrieves back to user screen with the specific information he is requesting"
   ]
  },
  {
   "cell_type": "markdown",
   "id": "8227231c-5a27-4663-93f4-c56834f30e9b",
   "metadata": {},
   "source": [
    "Q2. Give advantages and disadvantages of using API."
   ]
  },
  {
   "cell_type": "markdown",
   "id": "7acee93c-b6c7-4b52-84cc-1e47056474bc",
   "metadata": {},
   "source": [
    "Ans:\n",
    "\n",
    "Advantage:  \n",
    "It integrates heterogeneous application to communicate with each other\n",
    "Fast and scalable\n",
    "Easy to develop\n",
    "\n",
    "Disadvantage:\n",
    "Since it provides integration to third party application, we have to understand their assumptions and way of development\n",
    "Wehve understand multiple layers before developing API\n",
    "Security is a big concern"
   ]
  },
  {
   "cell_type": "markdown",
   "id": "ab84b6a4-753b-47d9-83fa-f475d2f55250",
   "metadata": {},
   "source": [
    "Q3. What is a Web API? Differentiate between API and Web API."
   ]
  },
  {
   "cell_type": "markdown",
   "id": "e4deaabc-8b09-46ea-be23-e9d55fa35739",
   "metadata": {},
   "source": [
    "Ans:\n",
    "\n",
    "WebAPI is  API on Web which uses HTTP protocol.\n",
    "\n",
    "API in general uses HTTP, TCP, SMTP protocols whereas WebAPI uses only HTTP request"
   ]
  },
  {
   "cell_type": "markdown",
   "id": "2c334d0a-3476-48ba-a5a1-76483ad59894",
   "metadata": {},
   "source": [
    "Q4. Explain REST and SOAP Architecture. Mention shortcomings of SOAP. "
   ]
  },
  {
   "cell_type": "code",
   "execution_count": null,
   "id": "78a549c2-d8ba-4142-aa3f-128419d5a84c",
   "metadata": {},
   "outputs": [],
   "source": [
    "REST:  A REST API is an API that conforms to the design principles of the REST, or representational state transfer architectural style. For this reason, REST APIs are sometimes referred to RESTful APIs.\n",
    "\n",
    "SOAP: SOAP API, or simple object access protocol application programming interface, is a standard messaging protocol that operating systems use to communicate via Hypertext Transfer Protocol (HTTP) and Extensible Markup Language (XML)."
   ]
  }
 ],
 "metadata": {
  "kernelspec": {
   "display_name": "Python 3 (ipykernel)",
   "language": "python",
   "name": "python3"
  },
  "language_info": {
   "codemirror_mode": {
    "name": "ipython",
    "version": 3
   },
   "file_extension": ".py",
   "mimetype": "text/x-python",
   "name": "python",
   "nbconvert_exporter": "python",
   "pygments_lexer": "ipython3",
   "version": "3.10.8"
  }
 },
 "nbformat": 4,
 "nbformat_minor": 5
}
